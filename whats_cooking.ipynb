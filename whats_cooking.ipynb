{
 "cells": [
  {
   "cell_type": "code",
   "execution_count": 1,
   "metadata": {},
   "outputs": [],
   "source": [
    "import json\n",
    "import numpy as np\n",
    "import pandas as pd\n",
    "from sklearn.feature_extraction.text import TfidfVectorizer\n",
    "import matplotlib.pyplot as plt\n",
    "from sklearn.svm import LinearSVC\n",
    "from sklearn.pipeline import make_pipeline\n",
    "from sklearn.decomposition import TruncatedSVD\n",
    "from sklearn.model_selection import cross_val_score\n",
    "from sklearn.ensemble import RandomForestClassifier\n",
    "from sklearn.ensemble import GradientBoostingClassifier\n",
    "from sklearn.preprocessing import LabelEncoder \n",
    "#from xgboost import XGBClassifier"
   ]
  },
  {
   "cell_type": "code",
   "execution_count": 2,
   "metadata": {},
   "outputs": [
    {
     "data": {
      "text/plain": [
       "9944"
      ]
     },
     "execution_count": 2,
     "metadata": {},
     "output_type": "execute_result"
    }
   ],
   "source": [
    "input_file=open('train.json','r')\n",
    "train=json.load(input_file)\n",
    "input_file=open('test.json','r')\n",
    "test=json.load(input_file)\n",
    "train[0]\n",
    "len(test)"
   ]
  },
  {
   "cell_type": "code",
   "execution_count": 3,
   "metadata": {},
   "outputs": [],
   "source": [
    "for i in range(39774):\n",
    "     a=train[i]['ingredients']\n",
    "     new=[]\n",
    "     for ingredients in a:\n",
    "         new.append('_'.join((ingredients.split(' '))))\n",
    "     train[i]['ingredients']=new\n",
    "for i in range(9944):\n",
    "     a=test[i]['ingredients']\n",
    "     new=[]\n",
    "     for ingredients in a:\n",
    "         new.append('_'.join((ingredients.split(' '))))\n",
    "     test[i]['ingredients']=new"
   ]
  },
  {
   "cell_type": "code",
   "execution_count": 71,
   "metadata": {},
   "outputs": [],
   "source": []
  },
  {
   "cell_type": "code",
   "execution_count": 4,
   "metadata": {},
   "outputs": [],
   "source": [
    "train=pd.DataFrame.from_dict(train)\n",
    "train=train[['id','cuisine','ingredients']]\n",
    "test=pd.DataFrame.from_dict(test)\n",
    "test=test[['id','ingredients']]\n"
   ]
  },
  {
   "cell_type": "code",
   "execution_count": 5,
   "metadata": {},
   "outputs": [
    {
     "data": {
      "text/plain": [
       "(39774, 4255)"
      ]
     },
     "execution_count": 5,
     "metadata": {},
     "output_type": "execute_result"
    }
   ],
   "source": [
    "tfidf = TfidfVectorizer(min_df=3)\n",
    "train['ingredients']=[\" \".join(ingredient) for ingredient in train['ingredients'].values]\n",
    "X_train = tfidf.fit_transform(train['ingredients'])\n",
    "X_train.shape"
   ]
  },
  {
   "cell_type": "code",
   "execution_count": 6,
   "metadata": {},
   "outputs": [
    {
     "data": {
      "text/plain": [
       "(9944, 2450)"
      ]
     },
     "execution_count": 6,
     "metadata": {},
     "output_type": "execute_result"
    }
   ],
   "source": [
    "test['ingredients']=[\" \".join(ingredient) for ingredient in test['ingredients'].values]\n",
    "X_test = tfidf.fit_transform(test['ingredients'])\n",
    "X_test.shape"
   ]
  },
  {
   "cell_type": "code",
   "execution_count": null,
   "metadata": {},
   "outputs": [],
   "source": []
  },
  {
   "cell_type": "code",
   "execution_count": 7,
   "metadata": {},
   "outputs": [],
   "source": [
    "svd = TruncatedSVD(n_components=2450)"
   ]
  },
  {
   "cell_type": "code",
   "execution_count": 8,
   "metadata": {},
   "outputs": [],
   "source": [
    "X_proj = svd.fit_transform(X_train)\n",
    "#X_proj_test = svd.fit_transform(X_test)\n"
   ]
  },
  {
   "cell_type": "code",
   "execution_count": 9,
   "metadata": {},
   "outputs": [
    {
     "data": {
      "text/plain": [
       "0.94827115123566252"
      ]
     },
     "execution_count": 9,
     "metadata": {},
     "output_type": "execute_result"
    }
   ],
   "source": [
    "np.cumsum(svd.explained_variance_ratio_)[-1]\n",
    "#it returns a cumulative sum of the variance explained by the first (i+1) dimensions"
   ]
  },
  {
   "cell_type": "code",
   "execution_count": 10,
   "metadata": {},
   "outputs": [
    {
     "name": "stdout",
     "output_type": "stream",
     "text": [
      "85.5200309753418\n"
     ]
    }
   ],
   "source": [
    "import time\n",
    "model_svc = LinearSVC()\n",
    "#0.78851\n",
    "#model_rfc = RandomForestClassifier(max_depth=25, random_state=0)\n",
    "#model = LogisticRegression()\n",
    "#model_gbc=  GradientBoostingClassifier()\n",
    "#model = XGBClassifier()\n",
    "#cross_val_score(model_gbc,X_proj,train['cuisine'])\n",
    "#cross_val_score(model_rfc,X_proj,train['cuisine'])\n",
    "#cross_val_score(model_svc,X_proj,train['cuisine'])\n",
    "\n",
    "\n",
    "t1=time.time()\n",
    "\n",
    "model_svc.fit(X_proj,train['cuisine'])\n",
    "#print(cross_val_score(model_svc,X_proj,train['cuisine']))\n",
    "t2=time.time()\n",
    "print(t2-t1)"
   ]
  },
  {
   "cell_type": "code",
   "execution_count": 13,
   "metadata": {},
   "outputs": [
    {
     "data": {
      "text/plain": [
       "9944"
      ]
     },
     "execution_count": 13,
     "metadata": {},
     "output_type": "execute_result"
    }
   ],
   "source": [
    "a=model_svc.predict(X_test)\n",
    "len(a)"
   ]
  },
  {
   "cell_type": "code",
   "execution_count": 14,
   "metadata": {},
   "outputs": [],
   "source": [
    "test_copy=test\n",
    "test_copy['cuisine']=a\n",
    "test_copy = test_copy.sort_values(by='id' , ascending=True)\n",
    "test_copy[['id' , 'cuisine' ]].to_csv('linear_svc_submission_svd_2400.csv',index=False)"
   ]
  },
  {
   "cell_type": "code",
   "execution_count": null,
   "metadata": {},
   "outputs": [],
   "source": [
    "#Score of -0.78851 on Kaggle"
   ]
  }
 ],
 "metadata": {
  "kernelspec": {
   "display_name": "Python 3",
   "language": "python",
   "name": "python3"
  },
  "language_info": {
   "codemirror_mode": {
    "name": "ipython",
    "version": 3
   },
   "file_extension": ".py",
   "mimetype": "text/x-python",
   "name": "python",
   "nbconvert_exporter": "python",
   "pygments_lexer": "ipython3",
   "version": "3.6.5"
  }
 },
 "nbformat": 4,
 "nbformat_minor": 2
}
